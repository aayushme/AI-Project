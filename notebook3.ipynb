{
  "nbformat": 4,
  "nbformat_minor": 0,
  "metadata": {
    "colab": {
      "name": "notebook3.ipynb",
      "provenance": [],
      "collapsed_sections": [],
      "authorship_tag": "ABX9TyPrDq422hk5ig3C+icR/GIj",
      "include_colab_link": true
    },
    "kernelspec": {
      "name": "python3",
      "display_name": "Python 3"
    },
    "accelerator": "GPU"
  },
  "cells": [
    {
      "cell_type": "markdown",
      "metadata": {
        "id": "view-in-github",
        "colab_type": "text"
      },
      "source": [
        "<a href=\"https://colab.research.google.com/github/rahulkashyap14298/about-us/blob/master/notebook3.ipynb\" target=\"_parent\"><img src=\"https://colab.research.google.com/assets/colab-badge.svg\" alt=\"Open In Colab\"/></a>"
      ]
    },
    {
      "cell_type": "code",
      "metadata": {
        "id": "Q9puofTe7Nn1",
        "colab_type": "code",
        "colab": {
          "base_uri": "https://localhost:8080/",
          "height": 121
        },
        "outputId": "89ac5379-2d92-4609-e898-fda3663c0dc7"
      },
      "source": [
        "from google.colab import drive\n",
        "drive.mount(\"/content/drive\")"
      ],
      "execution_count": 1,
      "outputs": [
        {
          "output_type": "stream",
          "text": [
            "Go to this URL in a browser: https://accounts.google.com/o/oauth2/auth?client_id=947318989803-6bn6qk8qdgf4n4g3pfee6491hc0brc4i.apps.googleusercontent.com&redirect_uri=urn%3aietf%3awg%3aoauth%3a2.0%3aoob&response_type=code&scope=email%20https%3a%2f%2fwww.googleapis.com%2fauth%2fdocs.test%20https%3a%2f%2fwww.googleapis.com%2fauth%2fdrive%20https%3a%2f%2fwww.googleapis.com%2fauth%2fdrive.photos.readonly%20https%3a%2f%2fwww.googleapis.com%2fauth%2fpeopleapi.readonly\n",
            "\n",
            "Enter your authorization code:\n",
            "··········\n",
            "Mounted at /content/drive\n"
          ],
          "name": "stdout"
        }
      ]
    },
    {
      "cell_type": "code",
      "metadata": {
        "id": "r5-xN58W7uIU",
        "colab_type": "code",
        "colab": {}
      },
      "source": [
        "import os"
      ],
      "execution_count": 2,
      "outputs": []
    },
    {
      "cell_type": "code",
      "metadata": {
        "id": "sWsTQqYh7yZ9",
        "colab_type": "code",
        "colab": {}
      },
      "source": [
        "my_dir=\"/content/drive/My Drive/electronic-research/electronic-recognition\""
      ],
      "execution_count": 3,
      "outputs": []
    },
    {
      "cell_type": "code",
      "metadata": {
        "id": "V1pEOv2S-GDp",
        "colab_type": "code",
        "colab": {}
      },
      "source": [
        "%reload_ext autoreload\n",
        "%autoreload 2\n",
        "%matplotlib inline\n",
        "from fastai.vision import *\n",
        "from fastai.metrics import error_rate\n",
        "import warnings\n",
        "warnings.filterwarnings(\"ignore\", category=FutureWarning)\n",
        "warnings.filterwarnings(\"ignore\", category=UserWarning)\n",
        "img_counter=[]\n",
        "img_counter.append(10)"
      ],
      "execution_count": 4,
      "outputs": []
    },
    {
      "cell_type": "code",
      "metadata": {
        "id": "zK7bFuaA-hpV",
        "colab_type": "code",
        "colab": {}
      },
      "source": [
        "predictor = load_learner(my_dir)"
      ],
      "execution_count": 5,
      "outputs": []
    },
    {
      "cell_type": "code",
      "metadata": {
        "id": "ucR-IIqtB3a7",
        "colab_type": "code",
        "colab": {}
      },
      "source": [
        "def my_predictor(im):\n",
        "  test_img =open_image(im)\n",
        "  pred_class,pred_idx,outputs=predictor.predict(test_img)\n",
        "  return pred_class"
      ],
      "execution_count": 6,
      "outputs": []
    },
    {
      "cell_type": "code",
      "metadata": {
        "id": "iKMAt4yuNWL-",
        "colab_type": "code",
        "colab": {}
      },
      "source": [
        "my_image=\"/content/drive/My Drive/testdata\""
      ],
      "execution_count": 7,
      "outputs": []
    },
    {
      "cell_type": "code",
      "metadata": {
        "id": "3ftg9SK2Qlq4",
        "colab_type": "code",
        "colab": {}
      },
      "source": [
        "all_test_images=os.listdir(my_image)"
      ],
      "execution_count": 8,
      "outputs": []
    },
    {
      "cell_type": "code",
      "metadata": {
        "id": "0bo9NTATQ9Xr",
        "colab_type": "code",
        "colab": {
          "base_uri": "https://localhost:8080/",
          "height": 54
        },
        "outputId": "4545c47a-cac6-4a66-c55b-c33aa3a064f5"
      },
      "source": [
        "print(all_test_images)"
      ],
      "execution_count": 9,
      "outputs": [
        {
          "output_type": "stream",
          "text": [
            "['00000518.jpg', '00000505.jpg', '00000459.jpg', '00000540.jpg', '00000433.jpg', '00000447.jpg', '00000486.jpg', '00000507.jpg', '00000426.jpg', '00000522.jpg', '00000504.jpg', '00000445.jpg', '00000473.jpg', '00000474.jpg', '00000506.jpg', '00000480.jpg', '00000425.jpg', '00000517.jpg', '00000472.jpg', '00000510.jpg', '00000531.jpg', '00000462.jpg', '00000481.jpg', '00000432.jpg', '00000461.jpg', '00000520.jpg', '00000484.jpg', '00000497.jpg', '00000496.jpg', '00000530.jpg', '00000460.jpg', '00000434.jpg', '00000448.jpg', '00000533.jpg', '00000519.jpg', '00000532.jpg', '00000446.jpg', '00000485.jpg', '00000493.jpg', '00000534.jpg', '00000541.jpg', '00000471.jpg', '00000528.jpg', '00000495.jpg', '00000469.jpg', '00000529.jpg', '00000542.jpg', '00000483.jpg', '00000508.jpg', '00000516.jpg', '00000470.jpg', '00000498.jpg', '00000521.jpg', '00000509.jpg', '00000444.jpg', '00000482.jpg', '00000494.jpg', '00000492.jpg', '00000456.jpg', '00000468.jpg', '00000458.jpg', '00000449.jpg', '00000543.jpg', '00000544.jpg', '00000084.jpg', '00000132.jpg', '00000086.jpg', '00000144.jpg', '00000087.jpg', '00000098.jpg', '00000171.jpg', '00000157.jpg', '00000074.jpg', '00000072.jpg', '00000085.jpg', '00000170.jpg', '00000096.jpg', '00000134.jpg', '00000159.jpg', '00000073.jpg', '00000156.jpg', '00000147.jpg', '00000146.jpg', '00000133.jpg', '00000111.jpg', '00000110.jpg', '00000145.jpg', '00000099.jpg', '00000158.jpg', '00000097.jpg', '00000204.jpg', '00000207.jpg', '00000337.jpg', '00000252.jpg', '00000372.jpg', '00000325.jpg', '00000219.jpg', '00000230.jpg', '00000218.jpg', '00000324.jpg', '00000312.jpg', '00000192.jpg', '00000194.jpg', '00000265.jpg', '00000231.jpg', '00000206.jpg', '00000253.jpg', '00000217.jpg', '00000205.jpg', '00000313.jpg', '00000336.jpg', '00000276.jpg', '00000373.jpg', '00000216.jpg', '00000193.jpg', '00000264.jpg', '00000396.jpg', '00000374.jpg', '00000385.jpg', '00000387.jpg', '00000397.jpg', '00000386.jpg', '00000384.jpg', '00000109.jpg', '00000062.jpg', '00000076.jpg', '00000049.jpg', '00000122.jpg', '00000138.jpg', '00000124.jpg', '00000048.jpg', '00000064.jpg', '00000075.jpg', '00000060.jpg', '00000137.jpg', '00000123.jpg', '00000090.jpg', '00000135.jpg', '00000077.jpg', '00000120.jpg', '00000063.jpg', '00000061.jpg', '00000078.jpg', '00000121.jpg', '00000136.jpg', '00000108.jpg', '00000228.jpg', '00000180.jpg', '00000195.jpg', '00000184.jpg', '00000169.jpg', '00000210.jpg', '00000229.jpg', '00000197.jpg', '00000168.jpg', '00000241.jpg', '00000181.jpg', '00000301.jpg', '00000288.jpg', '00000289.jpg', '00000240.jpg', '00000196.jpg', '00000183.jpg', '00000198.jpg', '00000150.jpg', '00000182.jpg', '00000300.jpg', '00000406.jpg', '00000420.jpg', '00000451.jpg', '00000422.jpg', '00000392.jpg', '00000360.jpg', '00000450.jpg', '00000375.jpg', '00000439.jpg', '00000424.jpg', '00000364.jpg', '00000376.jpg', '00000438.jpg', '00000377.jpg', '00000407.jpg', '00000409.jpg', '00000452.jpg', '00000408.jpg', '00000394.jpg', '00000349.jpg', '00000393.jpg', '00000423.jpg', '00000466.jpg', '00000379.jpg', '00000421.jpg', '00000435.jpg', '00000378.jpg', '00000436.jpg', '00000454.jpg', '00000390.jpg', '00000467.jpg', '00000437.jpg', '00000453.jpg', '00000361.jpg', '00000465.jpg', '00000405.jpg', '00000391.jpg', '00000243.jpg', '00000291.jpg', '00000267.jpg', '00000255.jpg', '00000244.jpg', '00000254.jpg', '00000246.jpg', '00000292.jpg', '00000282.jpg', '00000266.jpg', '00000290.jpg', '00000270.jpg', '00000279.jpg', '00000256.jpg', '00000245.jpg', '00000278.jpg', '00000242.jpg', '00000281.jpg', '00000269.jpg', '00000258.jpg', '00000268.jpg', '00000280.jpg', '00000257.jpg', '00000293.jpg', '00000305.jpg', '00000326.jpg', '00000339.jpg', '00000350.jpg', '00000341.jpg', '00000303.jpg', '00000328.jpg', '00000327.jpg', '00000314.jpg', '00000329.jpg', '00000354.jpg', '00000338.jpg', '00000304.jpg', '00000353.jpg', '00000318.jpg', '00000317.jpg', '00000306.jpg', '00000363.jpg', '00000315.jpg', '00000351.jpg', '00000352.jpg', '00000330.jpg', '00000362.jpg', '00000316.jpg', '00000342.jpg', '00000340.jpg', '00000302.jpg', '00000117.jpg', '00000141.jpg', '00000116.jpg', '00000140.jpg', '00000007.jpg', '00000151.jpg', '00000044.jpg', '00000142.jpg', '00000131.jpg', '00000104.jpg', '00000055.jpg', '00000118.jpg', '00000081.jpg', '00000011.jpg', '00000067.jpg', '00000057.jpg', '00000045.jpg', '00000105.jpg', '00000068.jpg', '00000083.jpg', '00000079.jpg', '00000021.jpg', '00000056.jpg', '00000035.jpg', '00000019.jpg', '00000008.jpg', '00000071.jpg', '00000106.jpg', '00000130.jpg', '00000059.jpg', '00000080.jpg', '00000047.jpg', '00000031.jpg', '00000058.jpg', '00000010.jpg', '00000129.jpg', '00000115.jpg', '00000032.jpg', '00000152.jpg', '00000143.jpg', '00000033.jpg', '00000103.jpg', '00000022.jpg', '00000119.jpg', '00000046.jpg', '00000034.jpg', '00000128.jpg', '00000092.jpg', '00000127.jpg', '00000023.jpg', '00000095.jpg', '00000020.jpg', '00000043.jpg', '00000094.jpg', '00000139.jpg', '00000070.jpg', '00000069.jpg', '00000093.jpg', '00000009.jpg', '00000107.jpg', '00000082.jpg', '00000298.jpg', '00000224.jpg', '00000153.jpg', '00000250.jpg', '00000203.jpg', '00000295.jpg', '00000308.jpg', '00000251.jpg', '00000214.jpg', '00000190.jpg', '00000187.jpg', '00000175.jpg', '00000322.jpg', '00000237.jpg', '00000283.jpg', '00000310.jpg', '00000176.jpg', '00000309.jpg', '00000211.jpg', '00000166.jpg', '00000284.jpg', '00000271.jpg', '00000202.jpg', '00000287.jpg', '00000163.jpg', '00000178.jpg', '00000297.jpg', '00000167.jpg', '00000177.jpg', '00000262.jpg', '00000260.jpg', '00000320.jpg', '00000154.jpg', '00000215.jpg', '00000238.jpg', '00000343.jpg', '00000275.jpg', '00000321.jpg', '00000225.jpg', '00000263.jpg', '00000311.jpg', '00000239.jpg', '00000227.jpg', '00000200.jpg', '00000236.jpg', '00000319.jpg', '00000334.jpg', '00000286.jpg', '00000212.jpg', '00000189.jpg', '00000259.jpg', '00000296.jpg', '00000235.jpg', '00000249.jpg', '00000201.jpg', '00000261.jpg', '00000307.jpg', '00000247.jpg', '00000331.jpg', '00000332.jpg', '00000299.jpg', '00000272.jpg', '00000223.jpg', '00000274.jpg', '00000155.jpg', '00000191.jpg', '00000323.jpg', '00000199.jpg', '00000285.jpg', '00000248.jpg', '00000164.jpg', '00000333.jpg', '00000179.jpg', '00000188.jpg', '00000165.jpg', '00000335.jpg', '00000213.jpg', '00000226.jpg', '00000273.jpg', '00000356.jpg', '00000344.jpg', '00000368.jpg', '00000358.jpg', '00000357.jpg', '00000355.jpg', '00000345.jpg', '00000359.jpg', '00000367.jpg', '00000347.jpg', '00000370.jpg', '00000371.jpg', '00000369.jpg', '00000346.jpg', '00000457.jpg', '00000294.jpg', '00000277.jpg', '00000348.jpg', '00000091.jpg']\n"
          ],
          "name": "stdout"
        }
      ]
    },
    {
      "cell_type": "code",
      "metadata": {
        "id": "lwA4sD8jRMSk",
        "colab_type": "code",
        "colab": {
          "base_uri": "https://localhost:8080/",
          "height": 173
        },
        "outputId": "5216fcd8-e9c1-40d8-cb60-472e5dec32bd"
      },
      "source": [
        "idx=45\n",
        "print(my_predictor(\"/content/drive/My Drive/testdata/\"+all_test_images[idx]))\n",
        "img = open_image(\"/content/drive/My Drive/testdata/\"+all_test_images[idx])\n",
        "img.show()"
      ],
      "execution_count": 10,
      "outputs": [
        {
          "output_type": "stream",
          "text": [
            "fan\n"
          ],
          "name": "stdout"
        },
        {
          "output_type": "display_data",
          "data": {
            "image/png": "[encoded data removed]",
            "text/plain": [
              "<Figure size 216x216 with 1 Axes>"
            ]
          },
          "metadata": {
            "tags": [],
            "needs_background": "light"
          }
        }
      ]
    },
    {
      "cell_type": "code",
      "metadata": {
        "id": "RfzJ6zdRRt4l",
        "colab_type": "code",
        "colab": {}
      },
      "source": [
        "import cv2\n",
        "test_files=os.listdir(my_image)\n",
        "os.makedirs(\"test_result\",exist_ok=True)\n",
        "i=0\n",
        "for test_file in test_files:\n",
        "  img=cv2.imread(my_image+\"/\"+test_file)\n",
        "  cv2.imwrite(\"temp.jpg\",img)\n",
        "  ans_text=my_predictor(\"temp.jpg\")\n",
        "  font = cv2.FONT_HERSHEY_SIMPLEX \n",
        "  i+=1\n",
        "  org = (0, 50) \n",
        "  fontScale = 2\n",
        "  color = (255, 0, 0) \n",
        "  thickness = 4\n",
        "  img = cv2.putText(img, str(ans_text), org, font,fontScale, color, thickness, cv2.LINE_AA) \n",
        "  cv2.imwrite(\"test_result/\"+str(i)+\".jpg\", img)"
      ],
      "execution_count": 11,
      "outputs": []
    },
    {
      "cell_type": "code",
      "metadata": {
        "id": "jra0rrLJUXsD",
        "colab_type": "code",
        "colab": {
          "base_uri": "https://localhost:8080/",
          "height": 1000
        },
        "outputId": "d71068fa-4286-45eb-abc5-8af4e23d5c23"
      },
      "source": [
        "%cd \"test_result\"\n",
        "!ffmpeg -framerate 1 -pattern_type glob -i '*.jpg' -s 1920x1080  \\-c:v libx264 -r 1 -pix_fmt yuv420p ../my_final_output.mp4\n",
        "%cd .."
      ],
      "execution_count": 17,
      "outputs": [
        {
          "output_type": "stream",
          "text": [
            "/content/test_result\n",
            "ffmpeg version 3.4.6-0ubuntu0.18.04.1 Copyright (c) 2000-2019 the FFmpeg developers\n",
            "  built with gcc 7 (Ubuntu 7.3.0-16ubuntu3)\n",
            "  configuration: --prefix=/usr --extra-version=0ubuntu0.18.04.1 --toolchain=hardened --libdir=/usr/lib/x86_64-linux-gnu --incdir=/usr/include/x86_64-linux-gnu --enable-gpl --disable-stripping --enable-avresample --enable-avisynth --enable-gnutls --enable-ladspa --enable-libass --enable-libbluray --enable-libbs2b --enable-libcaca --enable-libcdio --enable-libflite --enable-libfontconfig --enable-libfreetype --enable-libfribidi --enable-libgme --enable-libgsm --enable-libmp3lame --enable-libmysofa --enable-libopenjpeg --enable-libopenmpt --enable-libopus --enable-libpulse --enable-librubberband --enable-librsvg --enable-libshine --enable-libsnappy --enable-libsoxr --enable-libspeex --enable-libssh --enable-libtheora --enable-libtwolame --enable-libvorbis --enable-libvpx --enable-libwavpack --enable-libwebp --enable-libx265 --enable-libxml2 --enable-libxvid --enable-libzmq --enable-libzvbi --enable-omx --enable-openal --enable-opengl --enable-sdl2 --enable-libdc1394 --enable-libdrm --enable-libiec61883 --enable-chromaprint --enable-frei0r --enable-libopencv --enable-libx264 --enable-shared\n",
            "  libavutil      55. 78.100 / 55. 78.100\n",
            "  libavcodec     57.107.100 / 57.107.100\n",
            "  libavformat    57. 83.100 / 57. 83.100\n",
            "  libavdevice    57. 10.100 / 57. 10.100\n",
            "  libavfilter     6.107.100 /  6.107.100\n",
            "  libavresample   3.  7.  0 /  3.  7.  0\n",
            "  libswscale      4.  8.100 /  4.  8.100\n",
            "  libswresample   2.  9.100 /  2.  9.100\n",
            "  libpostproc    54.  7.100 / 54.  7.100\n",
            "Input #0, image2, from '*.jpg':\n",
            "  Duration: 00:06:54.00, start: 0.000000, bitrate: N/A\n",
            "    Stream #0:0: Video: mjpeg, yuvj420p(pc, bt470bg/unknown/unknown), 321x157 [SAR 1:1 DAR 321:157], 1 fps, 1 tbr, 1 tbn, 1 tbc\n",
            "Stream mapping:\n",
            "  Stream #0:0 -> #0:0 (mjpeg (native) -> h264 (libx264))\n",
            "Press [q] to stop, [?] for help\n",
            "\u001b[1;34m[swscaler @ 0x564f8424c000] \u001b[0m\u001b[0;33mdeprecated pixel format used, make sure you did set range correctly\n",
            "\u001b[0m\u001b[1;36m[libx264 @ 0x564f84169e00] \u001b[0musing SAR=2889/2512\n",
            "\u001b[1;36m[libx264 @ 0x564f84169e00] \u001b[0musing cpu capabilities: MMX2 SSE2Fast SSSE3 SSE4.2 AVX FMA3 BMI2 AVX2\n",
            "\u001b[1;36m[libx264 @ 0x564f84169e00] \u001b[0mprofile High, level 4.0\n",
            "\u001b[1;36m[libx264 @ 0x564f84169e00] \u001b[0m264 - core 152 r2854 e9a5903 - H.264/MPEG-4 AVC codec - Copyleft 2003-2017 - http://www.videolan.org/x264.html - options: cabac=1 ref=3 deblock=1:0:0 analyse=0x3:0x113 me=hex subme=7 psy=1 psy_rd=1.00:0.00 mixed_ref=1 me_range=16 chroma_me=1 trellis=1 8x8dct=1 cqm=0 deadzone=21,11 fast_pskip=1 chroma_qp_offset=-2 threads=3 lookahead_threads=1 sliced_threads=0 nr=0 decimate=1 interlaced=0 bluray_compat=0 constrained_intra=0 bframes=3 b_pyramid=2 b_adapt=1 b_bias=0 direct=1 weightb=1 open_gop=0 weightp=2 keyint=250 keyint_min=1 scenecut=40 intra_refresh=0 rc_lookahead=40 rc=crf mbtree=1 crf=23.0 qcomp=0.60 qpmin=0 qpmax=69 qpstep=4 ip_ratio=1.40 aq=1:1.00\n",
            "Output #0, mp4, to '../my_final_output.mp4':\n",
            "  Metadata:\n",
            "    encoder         : Lavf57.83.100\n",
            "    Stream #0:0: Video: h264 (libx264) (avc1 / 0x31637661), yuv420p, 1920x1080 [SAR 2889:2512 DAR 321:157], q=-1--1, 1 fps, 16384 tbn, 1 tbc\n",
            "    Metadata:\n",
            "      encoder         : Lavc57.107.100 libx264\n",
            "    Side data:\n",
            "      cpb: bitrate max/min/avg: 0/0/0 buffer size: 0 vbv_delay: -1\n",
            "\u001b[1;34m[swscaler @ 0x564f8424c000] \u001b[0m\u001b[0;33mdeprecated pixel format used, make sure you did set range correctly\n",
            "    Last message repeated 41 times\n",
            "\u001b[1;34m[swscaler @ 0x564f8424c000] \u001b[0m\u001b[0;33mdeprecated pixel format used, make sure you did set range correctly\n",
            "    Last message repeated 1 times\n",
            "\u001b[1;34m[swscaler @ 0x564f85d88000] \u001b[0m\u001b[0;33mdeprecated pixel format used, make sure you did set range correctly\n",
            "    Last message repeated 1 times\n",
            "\u001b[1;34m[swscaler @ 0x564f85d88000] \u001b[0m\u001b[0;33mdeprecated pixel format used, make sure you did set range correctly\n",
            "    Last message repeated 1 times\n",
            "\u001b[1;34m[swscaler @ 0x564f85d88000] \u001b[0m\u001b[0;33mdeprecated pixel format used, make sure you did set range correctly\n",
            "    Last message repeated 2 times\n",
            "\u001b[1;34m[swscaler @ 0x564f85d88000] \u001b[0m\u001b[0;33mdeprecated pixel format used, make sure you did set range correctly\n",
            "    Last message repeated 2 times\n",
            "\u001b[1;34m[swscaler @ 0x564f85d88000] \u001b[0m\u001b[0;33mdeprecated pixel format used, make sure you did set range correctly\n",
            "    Last message repeated 1 times\n",
            "\u001b[1;34m[swscaler @ 0x564f85d88000] \u001b[0m\u001b[0;33mdeprecated pixel format used, make sure you did set range correctly\n",
            "    Last message repeated 2 times\n",
            "\u001b[1;34m[swscaler @ 0x564f85d88000] \u001b[0m\u001b[0;33mdeprecated pixel format used, make sure you did set range correctly\n",
            "    Last message repeated 2 times\n",
            "\u001b[1;34m[swscaler @ 0x564f85d88000] \u001b[0m\u001b[0;33mdeprecated pixel format used, make sure you did set range correctly\n",
            "    Last message repeated 1 times\n",
            "\u001b[1;34m[swscaler @ 0x564f85d88000] \u001b[0m\u001b[0;33mdeprecated pixel format used, make sure you did set range correctly\n",
            "\u001b[0m\u001b[1;34m[swscaler @ 0x564f879c2000] \u001b[0m\u001b[0;33mdeprecated pixel format used, make sure you did set range correctly\n",
            "    Last message repeated 1 times\n",
            "\u001b[1;34m[swscaler @ 0x564f879c2000] \u001b[0m\u001b[0;33mdeprecated pixel format used, make sure you did set range correctly\n",
            "    Last message repeated 2 times\n",
            "\u001b[1;34m[swscaler @ 0x564f879c2000] \u001b[0m\u001b[0;33mdeprecated pixel format used, make sure you did set range correctly\n",
            "    Last message repeated 5 times\n",
            "\u001b[1;34m[swscaler @ 0x564f879c2000] \u001b[0m\u001b[0;33mdeprecated pixel format used, make sure you did set range correctly\n",
            "    Last message repeated 2 times\n",
            "\u001b[1;34m[swscaler @ 0x564f879c2000] \u001b[0m\u001b[0;33mdeprecated pixel format used, make sure you did set range correctly\n",
            "    Last message repeated 3 times\n",
            "\u001b[1;34m[swscaler @ 0x564f879c2000] \u001b[0m\u001b[0;33mdeprecated pixel format used, make sure you did set range correctly\n",
            "    Last message repeated 1 times\n",
            "\u001b[1;34m[swscaler @ 0x564f879c2000] \u001b[0m\u001b[0;33mdeprecated pixel format used, make sure you did set range correctly\n",
            "    Last message repeated 3 times\n",
            "\u001b[1;34m[swscaler @ 0x564f879c2000] \u001b[0m\u001b[0;33mdeprecated pixel format used, make sure you did set range correctly\n",
            "    Last message repeated 2 times\n",
            "\u001b[1;34m[swscaler @ 0x564f879c2000] \u001b[0m\u001b[0;33mdeprecated pixel format used, make sure you did set range correctly\n",
            "    Last message repeated 1 times\n",
            "\u001b[1;34m[swscaler @ 0x564f879c2000] \u001b[0m\u001b[0;33mdeprecated pixel format used, make sure you did set range correctly\n",
            "    Last message repeated 1 times\n",
            "\u001b[1;34m[swscaler @ 0x564f879c2000] \u001b[0m\u001b[0;33mdeprecated pixel format used, make sure you did set range correctly\n",
            "    Last message repeated 2 times\n",
            "\u001b[1;34m[swscaler @ 0x564f879c2000] \u001b[0m\u001b[0;33mdeprecated pixel format used, make sure you did set range correctly\n",
            "    Last message repeated 2 times\n",
            "\u001b[1;34m[swscaler @ 0x564f879c2000] \u001b[0m\u001b[0;33mdeprecated pixel format used, make sure you did set range correctly\n",
            "\u001b[1;34m[swscaler @ 0x564f879c2000] \u001b[0m\u001b[0;33mdeprecated pixel format used, make sure you did set range correctly\n",
            "    Last message repeated 2 times\n",
            "\u001b[1;34m[swscaler @ 0x564f879c2000] \u001b[0m\u001b[0;33mdeprecated pixel format used, make sure you did set range correctly\n",
            "\u001b[1;34m[swscaler @ 0x564f85d88000] \u001b[0m\u001b[0;33mdeprecated pixel format used, make sure you did set range correctly\n",
            "    Last message repeated 2 times\n",
            "\u001b[1;34m[swscaler @ 0x564f85d88000] \u001b[0m\u001b[0;33mdeprecated pixel format used, make sure you did set range correctly\n",
            "    Last message repeated 3 times\n",
            "\u001b[1;34m[swscaler @ 0x564f85d88000] \u001b[0m\u001b[0;33mdeprecated pixel format used, make sure you did set range correctly\n",
            "    Last message repeated 2 times\n",
            "\u001b[1;34m[swscaler @ 0x564f85d88000] \u001b[0m\u001b[0;33mdeprecated pixel format used, make sure you did set range correctly\n",
            "    Last message repeated 3 times\n",
            "\u001b[1;34m[swscaler @ 0x564f85d88000] \u001b[0m\u001b[0;33mdeprecated pixel format used, make sure you did set range correctly\n",
            "    Last message repeated 2 times\n",
            "\u001b[1;34m[swscaler @ 0x564f85d88000] \u001b[0m\u001b[0;33mdeprecated pixel format used, make sure you did set range correctly\n",
            "    Last message repeated 2 times\n",
            "\u001b[1;34m[swscaler @ 0x564f85d88000] \u001b[0m\u001b[0;33mdeprecated pixel format used, make sure you did set range correctly\n",
            "    Last message repeated 1 times\n",
            "\u001b[1;34m[swscaler @ 0x564f85d88000] \u001b[0m\u001b[0;33mdeprecated pixel format used, make sure you did set range correctly\n",
            "    Last message repeated 2 times\n",
            "\u001b[1;34m[swscaler @ 0x564f85d88000] \u001b[0m\u001b[0;33mdeprecated pixel format used, make sure you did set range correctly\n",
            "    Last message repeated 2 times\n",
            "\u001b[1;34m[swscaler @ 0x564f85d88000] \u001b[0m\u001b[0;33mdeprecated pixel format used, make sure you did set range correctly\n",
            "    Last message repeated 3 times\n",
            "\u001b[1;34m[swscaler @ 0x564f85d88000] \u001b[0m\u001b[0;33mdeprecated pixel format used, make sure you did set range correctly\n",
            "    Last message repeated 3 times\n",
            "\u001b[1;34m[swscaler @ 0x564f85d88000] \u001b[0m\u001b[0;33mdeprecated pixel format used, make sure you did set range correctly\n",
            "    Last message repeated 2 times\n",
            "\u001b[1;34m[swscaler @ 0x564f85d88000] \u001b[0m\u001b[0;33mdeprecated pixel format used, make sure you did set range correctly\n",
            "    Last message repeated 2 times\n",
            "\u001b[1;34m[swscaler @ 0x564f85d88000] \u001b[0m\u001b[0;33mdeprecated pixel format used, make sure you did set range correctly\n",
            "    Last message repeated 2 times\n",
            "\u001b[1;34m[swscaler @ 0x564f85d88000] \u001b[0m\u001b[0;33mdeprecated pixel format used, make sure you did set range correctly\n",
            "    Last message repeated 2 times\n",
            "\u001b[1;34m[swscaler @ 0x564f85d88000] \u001b[0m\u001b[0;33mdeprecated pixel format used, make sure you did set range correctly\n",
            "    Last message repeated 2 times\n",
            "\u001b[1;34m[swscaler @ 0x564f85d88000] \u001b[0m\u001b[0;33mdeprecated pixel format used, make sure you did set range correctly\n",
            "    Last message repeated 2 times\n",
            "\u001b[1;34m[swscaler @ 0x564f85d88000] \u001b[0m\u001b[0;33mdeprecated pixel format used, make sure you did set range correctly\n",
            "    Last message repeated 1 times\n",
            "\u001b[1;34m[swscaler @ 0x564f85d88000] \u001b[0m\u001b[0;33mdeprecated pixel format used, make sure you did set range correctly\n",
            "    Last message repeated 2 times\n",
            "\u001b[1;34m[swscaler @ 0x564f85d88000] \u001b[0m\u001b[0;33mdeprecated pixel format used, make sure you did set range correctly\n",
            "    Last message repeated 1 times\n",
            "\u001b[1;34m[swscaler @ 0x564f85d88000] \u001b[0m\u001b[0;33mdeprecated pixel format used, make sure you did set range correctly\n",
            "    Last message repeated 2 times\n",
            "\u001b[1;34m[swscaler @ 0x564f85d88000] \u001b[0m\u001b[0;33mdeprecated pixel format used, make sure you did set range correctly\n",
            "    Last message repeated 2 times\n",
            "\u001b[1;34m[swscaler @ 0x564f85d88000] \u001b[0m\u001b[0;33mdeprecated pixel format used, make sure you did set range correctly\n",
            "    Last message repeated 2 times\n",
            "\u001b[1;34m[swscaler @ 0x564f85d88000] \u001b[0m\u001b[0;33mdeprecated pixel format used, make sure you did set range correctly\n",
            "    Last message repeated 2 times\n",
            "\u001b[1;34m[swscaler @ 0x564f85d88000] \u001b[0m\u001b[0;33mdeprecated pixel format used, make sure you did set range correctly\n",
            "    Last message repeated 2 times\n",
            "\u001b[1;34m[swscaler @ 0x564f85d88000] \u001b[0m\u001b[0;33mdeprecated pixel format used, make sure you did set range correctly\n",
            "    Last message repeated 2 times\n",
            "\u001b[1;34m[swscaler @ 0x564f85d88000] \u001b[0m\u001b[0;33mdeprecated pixel format used, make sure you did set range correctly\n",
            "    Last message repeated 2 times\n",
            "\u001b[1;34m[swscaler @ 0x564f85d88000] \u001b[0m\u001b[0;33mdeprecated pixel format used, make sure you did set range correctly\n",
            "    Last message repeated 1 times\n",
            "\u001b[1;34m[swscaler @ 0x564f85d88000] \u001b[0m\u001b[0;33mdeprecated pixel format used, make sure you did set range correctly\n",
            "    Last message repeated 3 times\n",
            "\u001b[1;34m[swscaler @ 0x564f85d88000] \u001b[0m\u001b[0;33mdeprecated pixel format used, make sure you did set range correctly\n",
            "    Last message repeated 2 times\n",
            "\u001b[1;34m[swscaler @ 0x564f85d88000] \u001b[0m\u001b[0;33mdeprecated pixel format used, make sure you did set range correctly\n",
            "    Last message repeated 2 times\n",
            "\u001b[1;34m[swscaler @ 0x564f85d88000] \u001b[0m\u001b[0;33mdeprecated pixel format used, make sure you did set range correctly\n",
            "    Last message repeated 2 times\n",
            "\u001b[1;34m[swscaler @ 0x564f85d88000] \u001b[0m\u001b[0;33mdeprecated pixel format used, make sure you did set range correctly\n",
            "    Last message repeated 3 times\n",
            "\u001b[1;34m[swscaler @ 0x564f85d88000] \u001b[0m\u001b[0;33mdeprecated pixel format used, make sure you did set range correctly\n",
            "    Last message repeated 2 times\n",
            "\u001b[1;34m[swscaler @ 0x564f85d88000] \u001b[0m\u001b[0;33mdeprecated pixel format used, make sure you did set range correctly\n",
            "    Last message repeated 3 times\n",
            "\u001b[1;34m[swscaler @ 0x564f85d88000] \u001b[0m\u001b[0;33mdeprecated pixel format used, make sure you did set range correctly\n",
            "    Last message repeated 2 times\n",
            "\u001b[1;34m[swscaler @ 0x564f85d88000] \u001b[0m\u001b[0;33mdeprecated pixel format used, make sure you did set range correctly\n",
            "    Last message repeated 3 times\n",
            "\u001b[1;34m[swscaler @ 0x564f85d88000] \u001b[0m\u001b[0;33mdeprecated pixel format used, make sure you did set range correctly\n",
            "    Last message repeated 1 times\n",
            "\u001b[1;34m[swscaler @ 0x564f85d88000] \u001b[0m\u001b[0;33mdeprecated pixel format used, make sure you did set range correctly\n",
            "    Last message repeated 2 times\n",
            "\u001b[1;34m[swscaler @ 0x564f85d88000] \u001b[0m\u001b[0;33mdeprecated pixel format used, make sure you did set range correctly\n",
            "    Last message repeated 2 times\n",
            "\u001b[1;34m[swscaler @ 0x564f85d88000] \u001b[0m\u001b[0;33mdeprecated pixel format used, make sure you did set range correctly\n",
            "    Last message repeated 3 times\n",
            "\u001b[1;34m[swscaler @ 0x564f85d88000] \u001b[0m\u001b[0;33mdeprecated pixel format used, make sure you did set range correctly\n",
            "    Last message repeated 2 times\n",
            "\u001b[1;34m[swscaler @ 0x564f85d88000] \u001b[0m\u001b[0;33mdeprecated pixel format used, make sure you did set range correctly\n",
            "    Last message repeated 2 times\n",
            "\u001b[1;34m[swscaler @ 0x564f85d88000] \u001b[0m\u001b[0;33mdeprecated pixel format used, make sure you did set range correctly\n",
            "    Last message repeated 2 times\n",
            "\u001b[1;34m[swscaler @ 0x564f85d88000] \u001b[0m\u001b[0;33mdeprecated pixel format used, make sure you did set range correctly\n",
            "    Last message repeated 3 times\n",
            "\u001b[1;34m[swscaler @ 0x564f85d88000] \u001b[0m\u001b[0;33mdeprecated pixel format used, make sure you did set range correctly\n",
            "    Last message repeated 2 times\n",
            "\u001b[1;34m[swscaler @ 0x564f85d88000] \u001b[0m\u001b[0;33mdeprecated pixel format used, make sure you did set range correctly\n",
            "    Last message repeated 2 times\n",
            "\u001b[1;34m[swscaler @ 0x564f85d88000] \u001b[0m\u001b[0;33mdeprecated pixel format used, make sure you did set range correctly\n",
            "    Last message repeated 2 times\n",
            "\u001b[1;34m[swscaler @ 0x564f85d88000] \u001b[0m\u001b[0;33mdeprecated pixel format used, make sure you did set range correctly\n",
            "    Last message repeated 1 times\n",
            "\u001b[1;34m[swscaler @ 0x564f85d88000] \u001b[0m\u001b[0;33mdeprecated pixel format used, make sure you did set range correctly\n",
            "    Last message repeated 3 times\n",
            "\u001b[1;34m[swscaler @ 0x564f85d88000] \u001b[0m\u001b[0;33mdeprecated pixel format used, make sure you did set range correctly\n",
            "    Last message repeated 2 times\n",
            "\u001b[1;34m[swscaler @ 0x564f85d88000] \u001b[0m\u001b[0;33mdeprecated pixel format used, make sure you did set range correctly\n",
            "    Last message repeated 3 times\n",
            "\u001b[1;34m[swscaler @ 0x564f85d88000] \u001b[0m\u001b[0;33mdeprecated pixel format used, make sure you did set range correctly\n",
            "    Last message repeated 4 times\n",
            "\u001b[1;34m[swscaler @ 0x564f85d88000] \u001b[0m\u001b[0;33mdeprecated pixel format used, make sure you did set range correctly\n",
            "    Last message repeated 1 times\n",
            "\u001b[1;34m[swscaler @ 0x564f85d88000] \u001b[0m\u001b[0;33mdeprecated pixel format used, make sure you did set range correctly\n",
            "    Last message repeated 1 times\n",
            "\u001b[1;34m[swscaler @ 0x564f85d88000] \u001b[0m\u001b[0;33mdeprecated pixel format used, make sure you did set range correctly\n",
            "    Last message repeated 1 times\n",
            "\u001b[1;34m[swscaler @ 0x564f85d88000] \u001b[0m\u001b[0;33mdeprecated pixel format used, make sure you did set range correctly\n",
            "    Last message repeated 2 times\n",
            "\u001b[1;34m[swscaler @ 0x564f85d88000] \u001b[0m\u001b[0;33mdeprecated pixel format used, make sure you did set range correctly\n",
            "    Last message repeated 2 times\n",
            "\u001b[1;34m[swscaler @ 0x564f85d88000] \u001b[0m\u001b[0;33mdeprecated pixel format used, make sure you did set range correctly\n",
            "    Last message repeated 2 times\n",
            "\u001b[1;34m[swscaler @ 0x564f85d88000] \u001b[0m\u001b[0;33mdeprecated pixel format used, make sure you did set range correctly\n",
            "    Last message repeated 2 times\n",
            "\u001b[1;34m[swscaler @ 0x564f85d88000] \u001b[0m\u001b[0;33mdeprecated pixel format used, make sure you did set range correctly\n",
            "    Last message repeated 3 times\n",
            "\u001b[1;34m[swscaler @ 0x564f85d88000] \u001b[0m\u001b[0;33mdeprecated pixel format used, make sure you did set range correctly\n",
            "    Last message repeated 2 times\n",
            "\u001b[1;34m[swscaler @ 0x564f85d88000] \u001b[0m\u001b[0;33mdeprecated pixel format used, make sure you did set range correctly\n",
            "    Last message repeated 1 times\n",
            "\u001b[1;34m[swscaler @ 0x564f85d88000] \u001b[0m\u001b[0;33mdeprecated pixel format used, make sure you did set range correctly\n",
            "    Last message repeated 1 times\n",
            "\u001b[1;34m[swscaler @ 0x564f85d88000] \u001b[0m\u001b[0;33mdeprecated pixel format used, make sure you did set range correctly\n",
            "    Last message repeated 2 times\n",
            "\u001b[1;34m[swscaler @ 0x564f85d88000] \u001b[0m\u001b[0;33mdeprecated pixel format used, make sure you did set range correctly\n",
            "    Last message repeated 4 times\n",
            "\u001b[1;34m[swscaler @ 0x564f85d88000] \u001b[0m\u001b[0;33mdeprecated pixel format used, make sure you did set range correctly\n",
            "    Last message repeated 3 times\n",
            "\u001b[1;34m[swscaler @ 0x564f85d88000] \u001b[0m\u001b[0;33mdeprecated pixel format used, make sure you did set range correctly\n",
            "    Last message repeated 1 times\n",
            "\u001b[1;34m[swscaler @ 0x564f85d88000] \u001b[0m\u001b[0;33mdeprecated pixel format used, make sure you did set range correctly\n",
            "    Last message repeated 2 times\n",
            "\u001b[1;34m[swscaler @ 0x564f85d88000] \u001b[0m\u001b[0;33mdeprecated pixel format used, make sure you did set range correctly\n",
            "\u001b[0m\u001b[1;34m[swscaler @ 0x564f84220000] \u001b[0m\u001b[0;33mdeprecated pixel format used, make sure you did set range correctly\n",
            "    Last message repeated 2 times\n",
            "\u001b[1;34m[swscaler @ 0x564f84220000] \u001b[0m\u001b[0;33mdeprecated pixel format used, make sure you did set range correctly\n",
            "    Last message repeated 1 times\n",
            "\u001b[1;34m[swscaler @ 0x564f84220000] \u001b[0m\u001b[0;33mdeprecated pixel format used, make sure you did set range correctly\n",
            "\u001b[1;34m[swscaler @ 0x564f84220000] \u001b[0m\u001b[0;33mdeprecated pixel format used, make sure you did set range correctly\n",
            "    Last message repeated 2 times\n",
            "\u001b[1;34m[swscaler @ 0x564f84220000] \u001b[0m\u001b[0;33mdeprecated pixel format used, make sure you did set range correctly\n",
            "    Last message repeated 2 times\n",
            "\u001b[1;34m[swscaler @ 0x564f84220000] \u001b[0m\u001b[0;33mdeprecated pixel format used, make sure you did set range correctly\n",
            "    Last message repeated 2 times\n",
            "\u001b[1;34m[swscaler @ 0x564f84220000] \u001b[0m\u001b[0;33mdeprecated pixel format used, make sure you did set range correctly\n",
            "    Last message repeated 1 times\n",
            "\u001b[1;34m[swscaler @ 0x564f84220000] \u001b[0m\u001b[0;33mdeprecated pixel format used, make sure you did set range correctly\n",
            "    Last message repeated 2 times\n",
            "\u001b[1;34m[swscaler @ 0x564f84220000] \u001b[0m\u001b[0;33mdeprecated pixel format used, make sure you did set range correctly\n",
            "    Last message repeated 3 times\n",
            "\u001b[1;34m[swscaler @ 0x564f84220000] \u001b[0m\u001b[0;33mdeprecated pixel format used, make sure you did set range correctly\n",
            "    Last message repeated 2 times\n",
            "\u001b[1;34m[swscaler @ 0x564f84220000] \u001b[0m\u001b[0;33mdeprecated pixel format used, make sure you did set range correctly\n",
            "    Last message repeated 2 times\n",
            "\u001b[1;34m[swscaler @ 0x564f84220000] \u001b[0m\u001b[0;33mdeprecated pixel format used, make sure you did set range correctly\n",
            "    Last message repeated 2 times\n",
            "\u001b[1;34m[swscaler @ 0x564f84220000] \u001b[0m\u001b[0;33mdeprecated pixel format used, make sure you did set range correctly\n",
            "    Last message repeated 1 times\n",
            "\u001b[1;34m[swscaler @ 0x564f84220000] \u001b[0m\u001b[0;33mdeprecated pixel format used, make sure you did set range correctly\n",
            "    Last message repeated 2 times\n",
            "\u001b[1;34m[swscaler @ 0x564f84220000] \u001b[0m\u001b[0;33mdeprecated pixel format used, make sure you did set range correctly\n",
            "    Last message repeated 1 times\n",
            "\u001b[1;34m[swscaler @ 0x564f84220000] \u001b[0m\u001b[0;33mdeprecated pixel format used, make sure you did set range correctly\n",
            "    Last message repeated 2 times\n",
            "\u001b[1;34m[swscaler @ 0x564f84220000] \u001b[0m\u001b[0;33mdeprecated pixel format used, make sure you did set range correctly\n",
            "    Last message repeated 3 times\n",
            "\u001b[1;34m[swscaler @ 0x564f84220000] \u001b[0m\u001b[0;33mdeprecated pixel format used, make sure you did set range correctly\n",
            "    Last message repeated 2 times\n",
            "\u001b[1;34m[swscaler @ 0x564f84220000] \u001b[0m\u001b[0;33mdeprecated pixel format used, make sure you did set range correctly\n",
            "    Last message repeated 2 times\n",
            "\u001b[1;34m[swscaler @ 0x564f84220000] \u001b[0m\u001b[0;33mdeprecated pixel format used, make sure you did set range correctly\n",
            "    Last message repeated 2 times\n",
            "\u001b[1;34m[swscaler @ 0x564f84220000] \u001b[0m\u001b[0;33mdeprecated pixel format used, make sure you did set range correctly\n",
            "    Last message repeated 2 times\n",
            "frame=  414 fps=5.2 q=-1.0 Lsize=   34681kB time=00:06:51.00 bitrate= 691.3kbits/s speed=5.19x    \n",
            "video:34678kB audio:0kB subtitle:0kB other streams:0kB global headers:0kB muxing overhead: 0.008533%\n",
            "\u001b[1;36m[libx264 @ 0x564f84169e00] \u001b[0mframe I:15    Avg QP: 8.48  size: 81976\n",
            "\u001b[1;36m[libx264 @ 0x564f84169e00] \u001b[0mframe P:399   Avg QP:12.91  size: 85914\n",
            "\u001b[1;36m[libx264 @ 0x564f84169e00] \u001b[0mmb I  I16..4: 25.8% 64.4%  9.8%\n",
            "\u001b[1;36m[libx264 @ 0x564f84169e00] \u001b[0mmb P  I16..4: 17.6% 65.3%  9.2%  P16..4:  2.0%  0.9%  0.4%  0.0%  0.0%    skip: 4.7%\n",
            "\u001b[1;36m[libx264 @ 0x564f84169e00] \u001b[0m8x8 transform intra:70.7% inter:85.3%\n",
            "\u001b[1;36m[libx264 @ 0x564f84169e00] \u001b[0mcoded y,uvDC,uvAC intra: 56.0% 48.4% 37.4% inter: 23.2% 29.8% 20.3%\n",
            "\u001b[1;36m[libx264 @ 0x564f84169e00] \u001b[0mi16 v,h,dc,p: 62% 26%  2% 10%\n",
            "\u001b[1;36m[libx264 @ 0x564f84169e00] \u001b[0mi8 v,h,dc,ddl,ddr,vr,hd,vl,hu: 32% 29% 12%  3%  4%  4%  6%  4%  6%\n",
            "\u001b[1;36m[libx264 @ 0x564f84169e00] \u001b[0mi4 v,h,dc,ddl,ddr,vr,hd,vl,hu: 35% 36%  7%  3%  6%  4%  5%  2%  2%\n",
            "\u001b[1;36m[libx264 @ 0x564f84169e00] \u001b[0mi8c dc,h,v,p: 52% 24% 14%  9%\n",
            "\u001b[1;36m[libx264 @ 0x564f84169e00] \u001b[0mWeighted P-Frames: Y:2.3% UV:2.3%\n",
            "\u001b[1;36m[libx264 @ 0x564f84169e00] \u001b[0mref P L0: 33.6%  8.6% 34.5% 23.2%  0.1%\n",
            "\u001b[1;36m[libx264 @ 0x564f84169e00] \u001b[0mkb/s:686.17\n",
            "/content\n"
          ],
          "name": "stdout"
        }
      ]
    },
    {
      "cell_type": "code",
      "metadata": {
        "id": "Q07vQeRqV44m",
        "colab_type": "code",
        "colab": {
          "base_uri": "https://localhost:8080/",
          "height": 104
        },
        "outputId": "7e553dfb-48a1-4468-b85f-9d0aaed94422"
      },
      "source": [
        "!pip install -U kora\n",
        "from kora.drive import upload_public"
      ],
      "execution_count": 18,
      "outputs": [
        {
          "output_type": "stream",
          "text": [
            "Collecting kora\n",
            "  Downloading https://files.pythonhosted.org/packages/c6/74/adc2594668db1ec9a17080905313ad9f9d1c9c8fdbbc12eba2e95de8b4e9/kora-0.4.22-py3-none-any.whl\n",
            "Installing collected packages: kora\n",
            "Successfully installed kora-0.4.22\n"
          ],
          "name": "stdout"
        }
      ]
    },
    {
      "cell_type": "code",
      "metadata": {
        "id": "3Oa7LZ0AYVZu",
        "colab_type": "code",
        "colab": {}
      },
      "source": [
        "url = upload_public('my_final_output.mp4')"
      ],
      "execution_count": 21,
      "outputs": []
    },
    {
      "cell_type": "code",
      "metadata": {
        "id": "Ucy7i7VRYpUH",
        "colab_type": "code",
        "colab": {
          "base_uri": "https://localhost:8080/",
          "height": 35
        },
        "outputId": "90dffff5-7e74-4a81-be85-62e32c64a93c"
      },
      "source": [
        "url\n"
      ],
      "execution_count": 22,
      "outputs": [
        {
          "output_type": "execute_result",
          "data": {
            "application/vnd.google.colaboratory.intrinsic+json": {
              "type": "string"
            },
            "text/plain": [
              "'https://drive.google.com/uc?id=1BQIZWHxnWXnpf3QCgv7pBeRVNZbIkZbP'"
            ]
          },
          "metadata": {
            "tags": []
          },
          "execution_count": 22
        }
      ]
    },
    {
      "cell_type": "code",
      "metadata": {
        "id": "0jxBd9bkYwkx",
        "colab_type": "code",
        "colab": {
          "base_uri": "https://localhost:8080/",
          "height": 266
        },
        "outputId": "499d8233-2fbd-4846-b060-7ffe6081faba"
      },
      "source": [
        "\n",
        "from IPython.display import HTML\n",
        "HTML(f\"\"\"<video src={url} width=500 controls/>\"\"\")"
      ],
      "execution_count": 23,
      "outputs": [
        {
          "output_type": "execute_result",
          "data": {
            "text/html": [
              "<video src=https://drive.google.com/uc?id=1BQIZWHxnWXnpf3QCgv7pBeRVNZbIkZbP width=500 controls/>"
            ],
            "text/plain": [
              "<IPython.core.display.HTML object>"
            ]
          },
          "metadata": {
            "tags": []
          },
          "execution_count": 23
        }
      ]
    },
    {
      "cell_type": "code",
      "metadata": {
        "id": "Fe_2A9E6ZKbn",
        "colab_type": "code",
        "colab": {}
      },
      "source": [
        ""
      ],
      "execution_count": null,
      "outputs": []
    }
  ]
}